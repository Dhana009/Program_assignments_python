{
 "cells": [
  {
   "cell_type": "markdown",
   "id": "373e1abd",
   "metadata": {},
   "source": [
    "### 1. Write a Python program to find words which are greater than given length k ?"
   ]
  },
  {
   "cell_type": "code",
   "execution_count": 1,
   "id": "88289a34",
   "metadata": {},
   "outputs": [
    {
     "name": "stdout",
     "output_type": "stream",
     "text": [
      "Enter the string: INeuron Full Stack Data Science Course is Awesome\n",
      "Enter the length of the string: 4\n",
      "INeuron,Stack,Science,Course,Awesome\n"
     ]
    }
   ],
   "source": [
    "def checkLenString():\n",
    "    in_string = input(\"Enter the string: \")\n",
    "    in_length = int(input('Enter the length of the string: '))\n",
    "    out_string = []\n",
    "    for string in in_string.split(\" \"):\n",
    "        if len(string) > in_length:\n",
    "            out_string.append(string)\n",
    "    print(','.join(out_string))\n",
    "\n",
    "checkLenString()"
   ]
  },
  {
   "cell_type": "markdown",
   "id": "ff4da3c2",
   "metadata": {},
   "source": [
    "### 2. Write a Python program for removing i-th character from a string ?"
   ]
  },
  {
   "cell_type": "code",
   "execution_count": 2,
   "id": "2efe6098",
   "metadata": {},
   "outputs": [
    {
     "name": "stdout",
     "output_type": "stream",
     "text": [
      "Enter the String: ineuron\n",
      "Enter the ith Character: 2\n",
      "inuron\n"
     ]
    }
   ],
   "source": [
    "def removeCharacter():\n",
    "    in_string = input(\"Enter the String: \")\n",
    "    in_char_num = int(input(\"Enter the ith Character: \"))\n",
    "    out_string = ''\n",
    "    for ele in range(len(in_string)):\n",
    "        if ele != in_char_num:\n",
    "            out_string = out_string + in_string[ele]\n",
    "    print(out_string)\n",
    "    \n",
    "removeCharacter()"
   ]
  },
  {
   "cell_type": "markdown",
   "id": "6c1e2e97",
   "metadata": {},
   "source": [
    "### 3. Write a Python program to split and join a string ?"
   ]
  },
  {
   "cell_type": "code",
   "execution_count": 3,
   "id": "3a3fd56f",
   "metadata": {},
   "outputs": [
    {
     "name": "stdout",
     "output_type": "stream",
     "text": [
      "Enter the string: Ineuron Full Stack Data Science Course\n",
      "Split String: ['Ineuron', 'Full', 'Stack', 'Data', 'Science', 'Course']\n",
      "Join String: Ineuron Full Stack Data Science Course\n"
     ]
    }
   ],
   "source": [
    "\n",
    "def splitJoinString():\n",
    "    in_string = input('Enter the string: ')\n",
    "    print(f\"Split String: {in_string.split(' ')}\")\n",
    "    print(f\"Join String: {' '.join(in_string.split(' '))}\")\n",
    "\n",
    "splitJoinString()"
   ]
  },
  {
   "cell_type": "markdown",
   "id": "b409c2f3",
   "metadata": {},
   "source": [
    "### 4. Write a Python to check if a given string is binary string or not ?"
   ]
  },
  {
   "cell_type": "code",
   "execution_count": 4,
   "id": "ae93dde6",
   "metadata": {},
   "outputs": [
    {
     "name": "stdout",
     "output_type": "stream",
     "text": [
      "Enter the string: 1234\n",
      "1234 is not a binart string\n",
      "Enter the string: 1010101\n",
      "1010101 is a binary string\n"
     ]
    }
   ],
   "source": [
    "\n",
    "def checkBinary():\n",
    "    in_string = input('Enter the string: ')\n",
    "    stun = 0\n",
    "    for ele in in_string:\n",
    "        if ele in ['0','1']:\n",
    "            stun = 1\n",
    "            continue\n",
    "        else:\n",
    "            stun = 0\n",
    "            break\n",
    "    statement = 'is a binary string' if stun == 1 else 'is not a binart string' \n",
    "    print(f'{in_string} {statement}')\n",
    "\n",
    "checkBinary()\n",
    "checkBinary()"
   ]
  },
  {
   "cell_type": "markdown",
   "id": "78e8888b",
   "metadata": {},
   "source": [
    "### 5. Write a Python program to find uncommon words from two Strings ?"
   ]
  },
  {
   "cell_type": "code",
   "execution_count": 5,
   "id": "fd9a22bb",
   "metadata": {},
   "outputs": [
    {
     "name": "stdout",
     "output_type": "stream",
     "text": [
      "Enter the String 1: Supervised Learning\n",
      "Enter the String 2: Unsupervised Learning\n",
      "{'Unsupervised', 'Supervised'}\n"
     ]
    }
   ],
   "source": [
    "def unCommonWords():\n",
    "    in_string_1 = set(input(\"Enter the String 1: \").split(' '))\n",
    "    in_string_2 = set(input(\"Enter the String 2: \").split(' '))\n",
    "    out_string = (in_string_1.union(in_string_2)).difference(in_string_1.intersection(in_string_2))\n",
    "    print(out_string)\n",
    "\n",
    "unCommonWords()"
   ]
  },
  {
   "cell_type": "markdown",
   "id": "eff8c5e9",
   "metadata": {},
   "source": [
    "### 6. Write a Python to find all duplicate characters in string ?"
   ]
  },
  {
   "cell_type": "code",
   "execution_count": 6,
   "id": "b775f1de",
   "metadata": {},
   "outputs": [
    {
     "name": "stdout",
     "output_type": "stream",
     "text": [
      "Enter the string:  full stack data science course\n",
      "Duplicate characters are: [' ', 'u', 't', 'c', 'a', 's', 'e', 'l']\n"
     ]
    }
   ],
   "source": [
    "\n",
    "def duplicateChars():\n",
    "    in_string = input('Enter the string: ')\n",
    "    non_duplicate_list = []\n",
    "    duplicate_list = []\n",
    "    for ele in in_string:\n",
    "        if ele not in non_duplicate_list:\n",
    "            non_duplicate_list.append(ele)\n",
    "        else:\n",
    "            duplicate_list.append(ele)\n",
    "    print(f'Duplicate characters are: {list(set(duplicate_list))}')\n",
    "        \n",
    "duplicateChars()"
   ]
  },
  {
   "cell_type": "markdown",
   "id": "4afce192",
   "metadata": {},
   "source": [
    "### 7. Write a Python Program to check if a string contains any special character?"
   ]
  },
  {
   "cell_type": "code",
   "execution_count": 7,
   "id": "24dffb8f",
   "metadata": {},
   "outputs": [
    {
     "name": "stdout",
     "output_type": "stream",
     "text": [
      "Enter the string: DS @ Ineuron by Sudhanshu & krish\n",
      "There are 2 Speical Characters in DS @ Ineuron by Sudhanshu & krish which are ['@', '&']\n",
      "Enter the string: Full Metal Alchemist : Brotherhood\n",
      "There are 1 Speical Characters in Full Metal Alchemist : Brotherhood which are [':']\n"
     ]
    }
   ],
   "source": [
    "\n",
    "def checkSpecialChar():\n",
    "    spl_chars = '[@_!#$%^&*()<>?/\\|}{~:]'\n",
    "    in_num = input('Enter the string: ')\n",
    "    count = 0\n",
    "    char_list = []\n",
    "    for ele in in_num:\n",
    "        if ele in spl_chars:\n",
    "            char_list.append(ele)\n",
    "            count = count+1\n",
    "    print(f'There are {count} Speical Characters in {in_num} which are {char_list}')\n",
    "            \n",
    "        \n",
    "checkSpecialChar()\n",
    "checkSpecialChar()"
   ]
  }
 ],
 "metadata": {
  "kernelspec": {
   "display_name": "Python 3 (ipykernel)",
   "language": "python",
   "name": "python3"
  },
  "language_info": {
   "codemirror_mode": {
    "name": "ipython",
    "version": 3
   },
   "file_extension": ".py",
   "mimetype": "text/x-python",
   "name": "python",
   "nbconvert_exporter": "python",
   "pygments_lexer": "ipython3",
   "version": "3.9.12"
  }
 },
 "nbformat": 4,
 "nbformat_minor": 5
}
